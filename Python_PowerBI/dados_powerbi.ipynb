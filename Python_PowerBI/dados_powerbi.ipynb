{
 "cells": [
  {
   "cell_type": "code",
   "execution_count": 11,
   "metadata": {},
   "outputs": [],
   "source": [
    "from powerbiclient import QuickVisualize, get_dataset_config, Report\n",
    "from powerbiclient.authentication import DeviceCodeLoginAuthentication\n",
    "\n",
    "import pandas as pd"
   ]
  },
  {
   "cell_type": "code",
   "execution_count": 12,
   "metadata": {},
   "outputs": [],
   "source": [
    "df = pd.read_csv(\"Financial Sample.csv\")"
   ]
  },
  {
   "cell_type": "code",
   "execution_count": 13,
   "metadata": {},
   "outputs": [
    {
     "data": {
      "text/html": [
       "<div>\n",
       "<style scoped>\n",
       "    .dataframe tbody tr th:only-of-type {\n",
       "        vertical-align: middle;\n",
       "    }\n",
       "\n",
       "    .dataframe tbody tr th {\n",
       "        vertical-align: top;\n",
       "    }\n",
       "\n",
       "    .dataframe thead th {\n",
       "        text-align: right;\n",
       "    }\n",
       "</style>\n",
       "<table border=\"1\" class=\"dataframe\">\n",
       "  <thead>\n",
       "    <tr style=\"text-align: right;\">\n",
       "      <th></th>\n",
       "      <th>Segment</th>\n",
       "      <th>Country</th>\n",
       "      <th>Product</th>\n",
       "      <th>Discount Band</th>\n",
       "      <th>Units Sold</th>\n",
       "      <th>Manufacturing Price</th>\n",
       "      <th>Sale Price</th>\n",
       "      <th>Gross Sales</th>\n",
       "      <th>Discounts</th>\n",
       "      <th>Sales</th>\n",
       "      <th>COGS</th>\n",
       "      <th>Profit</th>\n",
       "      <th>Date</th>\n",
       "      <th>Month Number</th>\n",
       "      <th>Month Name</th>\n",
       "      <th>Year</th>\n",
       "    </tr>\n",
       "  </thead>\n",
       "  <tbody>\n",
       "    <tr>\n",
       "      <th>0</th>\n",
       "      <td>Government</td>\n",
       "      <td>Canada</td>\n",
       "      <td>Montana</td>\n",
       "      <td>High</td>\n",
       "      <td>200.0</td>\n",
       "      <td>5</td>\n",
       "      <td>350</td>\n",
       "      <td>70000.0</td>\n",
       "      <td>9800.0</td>\n",
       "      <td>60200.0</td>\n",
       "      <td>52000.0</td>\n",
       "      <td>8200.0</td>\n",
       "      <td>5/1/2014</td>\n",
       "      <td>5</td>\n",
       "      <td>May</td>\n",
       "      <td>2014</td>\n",
       "    </tr>\n",
       "    <tr>\n",
       "      <th>1</th>\n",
       "      <td>Small Business</td>\n",
       "      <td>Germany</td>\n",
       "      <td>Carretera</td>\n",
       "      <td>Low</td>\n",
       "      <td>214.0</td>\n",
       "      <td>3</td>\n",
       "      <td>300</td>\n",
       "      <td>64200.0</td>\n",
       "      <td>1284.0</td>\n",
       "      <td>62916.0</td>\n",
       "      <td>53500.0</td>\n",
       "      <td>9416.0</td>\n",
       "      <td>10/1/2013</td>\n",
       "      <td>10</td>\n",
       "      <td>October</td>\n",
       "      <td>2013</td>\n",
       "    </tr>\n",
       "    <tr>\n",
       "      <th>2</th>\n",
       "      <td>Small Business</td>\n",
       "      <td>Germany</td>\n",
       "      <td>VTT</td>\n",
       "      <td>Low</td>\n",
       "      <td>214.0</td>\n",
       "      <td>250</td>\n",
       "      <td>300</td>\n",
       "      <td>64200.0</td>\n",
       "      <td>1284.0</td>\n",
       "      <td>62916.0</td>\n",
       "      <td>53500.0</td>\n",
       "      <td>9416.0</td>\n",
       "      <td>10/1/2013</td>\n",
       "      <td>10</td>\n",
       "      <td>October</td>\n",
       "      <td>2013</td>\n",
       "    </tr>\n",
       "    <tr>\n",
       "      <th>3</th>\n",
       "      <td>Midmarket</td>\n",
       "      <td>Canada</td>\n",
       "      <td>Paseo</td>\n",
       "      <td>Low</td>\n",
       "      <td>218.0</td>\n",
       "      <td>10</td>\n",
       "      <td>15</td>\n",
       "      <td>3270.0</td>\n",
       "      <td>130.8</td>\n",
       "      <td>3139.2</td>\n",
       "      <td>2180.0</td>\n",
       "      <td>959.2</td>\n",
       "      <td>9/1/2014</td>\n",
       "      <td>9</td>\n",
       "      <td>September</td>\n",
       "      <td>2014</td>\n",
       "    </tr>\n",
       "    <tr>\n",
       "      <th>4</th>\n",
       "      <td>Government</td>\n",
       "      <td>Germany</td>\n",
       "      <td>Paseo</td>\n",
       "      <td>High</td>\n",
       "      <td>241.0</td>\n",
       "      <td>10</td>\n",
       "      <td>20</td>\n",
       "      <td>4820.0</td>\n",
       "      <td>482.0</td>\n",
       "      <td>4338.0</td>\n",
       "      <td>2410.0</td>\n",
       "      <td>1928.0</td>\n",
       "      <td>10/1/2014</td>\n",
       "      <td>10</td>\n",
       "      <td>October</td>\n",
       "      <td>2014</td>\n",
       "    </tr>\n",
       "  </tbody>\n",
       "</table>\n",
       "</div>"
      ],
      "text/plain": [
       "          Segment  Country      Product Discount Band  Units Sold  \\\n",
       "0      Government   Canada     Montana          High        200.0   \n",
       "1  Small Business  Germany   Carretera           Low        214.0   \n",
       "2  Small Business  Germany         VTT           Low        214.0   \n",
       "3       Midmarket   Canada       Paseo           Low        218.0   \n",
       "4      Government  Germany       Paseo          High        241.0   \n",
       "\n",
       "   Manufacturing Price  Sale Price  Gross Sales  Discounts    Sales     COGS  \\\n",
       "0                    5         350      70000.0     9800.0  60200.0  52000.0   \n",
       "1                    3         300      64200.0     1284.0  62916.0  53500.0   \n",
       "2                  250         300      64200.0     1284.0  62916.0  53500.0   \n",
       "3                   10          15       3270.0      130.8   3139.2   2180.0   \n",
       "4                   10          20       4820.0      482.0   4338.0   2410.0   \n",
       "\n",
       "   Profit       Date  Month Number   Month Name  Year  \n",
       "0  8200.0   5/1/2014             5         May   2014  \n",
       "1  9416.0  10/1/2013            10     October   2013  \n",
       "2  9416.0  10/1/2013            10     October   2013  \n",
       "3   959.2   9/1/2014             9   September   2014  \n",
       "4  1928.0  10/1/2014            10     October   2014  "
      ]
     },
     "execution_count": 13,
     "metadata": {},
     "output_type": "execute_result"
    }
   ],
   "source": [
    "df.head()"
   ]
  },
  {
   "cell_type": "code",
   "execution_count": 14,
   "metadata": {},
   "outputs": [
    {
     "name": "stdout",
     "output_type": "stream",
     "text": [
      "Performing device flow authentication. Please follow the instructions below.\n",
      "To sign in, use a web browser to open the page https://microsoft.com/devicelogin and enter the code FX2CALJB5 to authenticate.\n",
      "\n",
      "Device flow authentication successfully completed.\n",
      "You are now logged in .\n",
      "\n",
      "The result should be passed only to trusted code in your notebook.\n"
     ]
    }
   ],
   "source": [
    "# Iniciar autenticação do Power BI\n",
    "device_auth = DeviceCodeLoginAuthentication()"
   ]
  },
  {
   "cell_type": "code",
   "execution_count": 15,
   "metadata": {},
   "outputs": [
    {
     "data": {
      "application/vnd.jupyter.widget-view+json": {
       "model_id": "959b17c60c0d4af5a96365ed0d7e99fc",
       "version_major": 2,
       "version_minor": 0
      },
      "text/plain": [
       "QuickVisualize()"
      ]
     },
     "execution_count": 15,
     "metadata": {},
     "output_type": "execute_result"
    }
   ],
   "source": [
    "# Vistualizar de dados\n",
    "PBI_visualize = QuickVisualize(get_dataset_config(df), auth=device_auth)\n",
    "\n",
    "# Renderizar o novo relatório\n",
    "PBI_visualize"
   ]
  }
 ],
 "metadata": {
  "kernelspec": {
   "display_name": ".venv",
   "language": "python",
   "name": "python3"
  },
  "language_info": {
   "codemirror_mode": {
    "name": "ipython",
    "version": 3
   },
   "file_extension": ".py",
   "mimetype": "text/x-python",
   "name": "python",
   "nbconvert_exporter": "python",
   "pygments_lexer": "ipython3",
   "version": "3.11.3"
  },
  "orig_nbformat": 4
 },
 "nbformat": 4,
 "nbformat_minor": 2
}
